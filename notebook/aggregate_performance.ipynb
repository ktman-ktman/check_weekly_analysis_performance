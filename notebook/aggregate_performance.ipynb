{
 "cells": [
  {
   "cell_type": "markdown",
   "metadata": {},
   "source": [
    "# パフォーマンスを集約"
   ]
  },
  {
   "cell_type": "code",
   "execution_count": 1,
   "metadata": {},
   "outputs": [],
   "source": [
    "import pandas as pd\n",
    "import glob"
   ]
  },
  {
   "cell_type": "code",
   "execution_count": 2,
   "metadata": {},
   "outputs": [
    {
     "data": {
      "text/plain": [
       "['../data/result/m10_w13_b128.csv',\n",
       " '../data/result/m10_w13_b256.csv',\n",
       " '../data/result/m10_w4_b128.csv',\n",
       " '../data/result/m10_w4_b256.csv',\n",
       " '../data/result/m9_w13_b128.csv',\n",
       " '../data/result/m9_w13_b256.csv',\n",
       " '../data/result/m9_w4_b128.csv',\n",
       " '../data/result/m9_w4_b256.csv']"
      ]
     },
     "execution_count": 2,
     "metadata": {},
     "output_type": "execute_result"
    }
   ],
   "source": [
    "fn_l = glob.glob(\"../data/result/*.csv\")\n",
    "fn_l.sort()\n",
    "fn_l"
   ]
  },
  {
   "cell_type": "code",
   "execution_count": 3,
   "metadata": {},
   "outputs": [],
   "source": [
    "data_d = dict()\n",
    "for fn_i in fn_l:\n",
    "    df = pd.read_csv(fn_i, parse_dates=[\"date\"])\n",
    "    data_d.update({fn_i: df.copy()})"
   ]
  },
  {
   "cell_type": "code",
   "execution_count": 4,
   "metadata": {},
   "outputs": [
    {
     "name": "stdout",
     "output_type": "stream",
     "text": [
      "../data/result/m10_w13_b128.csv\n",
      "../data/result/m10_w13_b256.csv\n",
      "../data/result/m10_w4_b128.csv\n",
      "../data/result/m10_w4_b256.csv\n",
      "../data/result/m9_w13_b128.csv\n",
      "../data/result/m9_w13_b256.csv\n",
      "../data/result/m9_w4_b128.csv\n",
      "../data/result/m9_w4_b256.csv\n"
     ]
    }
   ],
   "source": [
    "for k, v in data_d.items():\n",
    "    print(k)"
   ]
  },
  {
   "cell_type": "markdown",
   "metadata": {},
   "source": [
    "## training data"
   ]
  },
  {
   "cell_type": "code",
   "execution_count": 10,
   "metadata": {},
   "outputs": [],
   "source": [
    "def calculate_average(data_d: dict, coln: str) -> pd.DataFrame:\n",
    "    result_l = list()\n",
    "    for k, v in data_d.items():\n",
    "        # 全期間\n",
    "        all_ = v[coln].mean()\n",
    "        # last 5yr\n",
    "        last5yr = v[coln].iloc[-52*5:].mean()\n",
    "        # last 3yr\n",
    "        last3yr = v[coln].iloc[-52*3:].mean()\n",
    "        # last 1yr\n",
    "        last1yr = v[coln].iloc[-52*1:].mean()\n",
    "        result_l.append([k, all_, last5yr, last3yr, last1yr])\n",
    "\n",
    "    result_df = pd.DataFrame(result_l, columns=[\"key\", \"all\", \"last5yr\", \"last3yr\", \"last1yr\"])\n",
    "    return result_df"
   ]
  },
  {
   "cell_type": "code",
   "execution_count": 11,
   "metadata": {},
   "outputs": [
    {
     "data": {
      "text/html": [
       "<div>\n",
       "<style scoped>\n",
       "    .dataframe tbody tr th:only-of-type {\n",
       "        vertical-align: middle;\n",
       "    }\n",
       "\n",
       "    .dataframe tbody tr th {\n",
       "        vertical-align: top;\n",
       "    }\n",
       "\n",
       "    .dataframe thead th {\n",
       "        text-align: right;\n",
       "    }\n",
       "</style>\n",
       "<table border=\"1\" class=\"dataframe\">\n",
       "  <thead>\n",
       "    <tr style=\"text-align: right;\">\n",
       "      <th></th>\n",
       "      <th>key</th>\n",
       "      <th>all</th>\n",
       "      <th>last5yr</th>\n",
       "      <th>last3yr</th>\n",
       "      <th>last1yr</th>\n",
       "    </tr>\n",
       "  </thead>\n",
       "  <tbody>\n",
       "    <tr>\n",
       "      <th>0</th>\n",
       "      <td>../data/result/m10_w13_b128.csv</td>\n",
       "      <td>0.499901</td>\n",
       "      <td>0.511822</td>\n",
       "      <td>0.498888</td>\n",
       "      <td>0.330645</td>\n",
       "    </tr>\n",
       "    <tr>\n",
       "      <th>1</th>\n",
       "      <td>../data/result/m10_w13_b256.csv</td>\n",
       "      <td>0.506000</td>\n",
       "      <td>0.544579</td>\n",
       "      <td>0.521200</td>\n",
       "      <td>0.471452</td>\n",
       "    </tr>\n",
       "    <tr>\n",
       "      <th>2</th>\n",
       "      <td>../data/result/m10_w4_b128.csv</td>\n",
       "      <td>0.488623</td>\n",
       "      <td>0.473093</td>\n",
       "      <td>0.489467</td>\n",
       "      <td>0.517488</td>\n",
       "    </tr>\n",
       "    <tr>\n",
       "      <th>3</th>\n",
       "      <td>../data/result/m10_w4_b256.csv</td>\n",
       "      <td>0.500465</td>\n",
       "      <td>0.480866</td>\n",
       "      <td>0.458517</td>\n",
       "      <td>0.458958</td>\n",
       "    </tr>\n",
       "    <tr>\n",
       "      <th>4</th>\n",
       "      <td>../data/result/m9_w13_b128.csv</td>\n",
       "      <td>0.517674</td>\n",
       "      <td>0.543444</td>\n",
       "      <td>0.569586</td>\n",
       "      <td>0.699743</td>\n",
       "    </tr>\n",
       "    <tr>\n",
       "      <th>5</th>\n",
       "      <td>../data/result/m9_w13_b256.csv</td>\n",
       "      <td>0.526082</td>\n",
       "      <td>0.528321</td>\n",
       "      <td>0.547368</td>\n",
       "      <td>0.467735</td>\n",
       "    </tr>\n",
       "    <tr>\n",
       "      <th>6</th>\n",
       "      <td>../data/result/m9_w4_b128.csv</td>\n",
       "      <td>0.510577</td>\n",
       "      <td>0.506648</td>\n",
       "      <td>0.536275</td>\n",
       "      <td>0.602878</td>\n",
       "    </tr>\n",
       "    <tr>\n",
       "      <th>7</th>\n",
       "      <td>../data/result/m9_w4_b256.csv</td>\n",
       "      <td>0.497743</td>\n",
       "      <td>0.490469</td>\n",
       "      <td>0.476350</td>\n",
       "      <td>0.499778</td>\n",
       "    </tr>\n",
       "  </tbody>\n",
       "</table>\n",
       "</div>"
      ],
      "text/plain": [
       "                               key       all   last5yr   last3yr   last1yr\n",
       "0  ../data/result/m10_w13_b128.csv  0.499901  0.511822  0.498888  0.330645\n",
       "1  ../data/result/m10_w13_b256.csv  0.506000  0.544579  0.521200  0.471452\n",
       "2   ../data/result/m10_w4_b128.csv  0.488623  0.473093  0.489467  0.517488\n",
       "3   ../data/result/m10_w4_b256.csv  0.500465  0.480866  0.458517  0.458958\n",
       "4   ../data/result/m9_w13_b128.csv  0.517674  0.543444  0.569586  0.699743\n",
       "5   ../data/result/m9_w13_b256.csv  0.526082  0.528321  0.547368  0.467735\n",
       "6    ../data/result/m9_w4_b128.csv  0.510577  0.506648  0.536275  0.602878\n",
       "7    ../data/result/m9_w4_b256.csv  0.497743  0.490469  0.476350  0.499778"
      ]
     },
     "execution_count": 11,
     "metadata": {},
     "output_type": "execute_result"
    }
   ],
   "source": [
    "calculate_average(data_d, \"training_loss\")"
   ]
  },
  {
   "cell_type": "markdown",
   "metadata": {},
   "source": [
    "## correlation"
   ]
  },
  {
   "cell_type": "code",
   "execution_count": 12,
   "metadata": {},
   "outputs": [],
   "source": [
    "def calculate_correlation(data_d: dict) -> pd.DataFrame:\n",
    "    \"\"\" drtnfとprobの送還を計算 \"\"\"\n",
    "    result_l = list()\n",
    "    for k, v in data_d.items():\n",
    "        # 全期間\n",
    "        all_ = v[[\"prob\", \"drtnf\"]].corr().iloc[0, 1]\n",
    "        # last 5yr\n",
    "        last5yr = v[[\"prob\", \"drtnf\"]].iloc[-52*5:].corr().iloc[0, 1]\n",
    "        # last 3yr\n",
    "        last3yr = v[[\"prob\", \"drtnf\"]].iloc[-52*3:].corr().iloc[0, 1]\n",
    "        # last 1yr\n",
    "        last1yr = v[[\"prob\", \"drtnf\"]].iloc[-52*1:].corr().iloc[0, 1]\n",
    "        result_l.append([k, all_, last5yr, last3yr, last1yr])\n",
    "\n",
    "    result_df = pd.DataFrame(result_l, columns=[\"key\", \"all\", \"last5yr\", \"last3yr\", \"last1yr\"])\n",
    "    return result_df"
   ]
  },
  {
   "cell_type": "code",
   "execution_count": 13,
   "metadata": {},
   "outputs": [
    {
     "data": {
      "text/html": [
       "<div>\n",
       "<style scoped>\n",
       "    .dataframe tbody tr th:only-of-type {\n",
       "        vertical-align: middle;\n",
       "    }\n",
       "\n",
       "    .dataframe tbody tr th {\n",
       "        vertical-align: top;\n",
       "    }\n",
       "\n",
       "    .dataframe thead th {\n",
       "        text-align: right;\n",
       "    }\n",
       "</style>\n",
       "<table border=\"1\" class=\"dataframe\">\n",
       "  <thead>\n",
       "    <tr style=\"text-align: right;\">\n",
       "      <th></th>\n",
       "      <th>key</th>\n",
       "      <th>all</th>\n",
       "      <th>last5yr</th>\n",
       "      <th>last3yr</th>\n",
       "      <th>last1yr</th>\n",
       "    </tr>\n",
       "  </thead>\n",
       "  <tbody>\n",
       "    <tr>\n",
       "      <th>0</th>\n",
       "      <td>../data/result/m10_w13_b128.csv</td>\n",
       "      <td>0.019976</td>\n",
       "      <td>-0.019266</td>\n",
       "      <td>0.029983</td>\n",
       "      <td>0.379816</td>\n",
       "    </tr>\n",
       "    <tr>\n",
       "      <th>1</th>\n",
       "      <td>../data/result/m10_w13_b256.csv</td>\n",
       "      <td>-0.007455</td>\n",
       "      <td>-0.087399</td>\n",
       "      <td>-0.124952</td>\n",
       "      <td>-0.615496</td>\n",
       "    </tr>\n",
       "    <tr>\n",
       "      <th>2</th>\n",
       "      <td>../data/result/m10_w4_b128.csv</td>\n",
       "      <td>0.049075</td>\n",
       "      <td>0.032452</td>\n",
       "      <td>0.080538</td>\n",
       "      <td>0.268310</td>\n",
       "    </tr>\n",
       "    <tr>\n",
       "      <th>3</th>\n",
       "      <td>../data/result/m10_w4_b256.csv</td>\n",
       "      <td>-0.021121</td>\n",
       "      <td>0.003217</td>\n",
       "      <td>0.048322</td>\n",
       "      <td>0.170021</td>\n",
       "    </tr>\n",
       "    <tr>\n",
       "      <th>4</th>\n",
       "      <td>../data/result/m9_w13_b128.csv</td>\n",
       "      <td>0.009652</td>\n",
       "      <td>-0.017965</td>\n",
       "      <td>-0.131644</td>\n",
       "      <td>0.113642</td>\n",
       "    </tr>\n",
       "    <tr>\n",
       "      <th>5</th>\n",
       "      <td>../data/result/m9_w13_b256.csv</td>\n",
       "      <td>-0.008869</td>\n",
       "      <td>0.057791</td>\n",
       "      <td>-0.098971</td>\n",
       "      <td>-0.067554</td>\n",
       "    </tr>\n",
       "    <tr>\n",
       "      <th>6</th>\n",
       "      <td>../data/result/m9_w4_b128.csv</td>\n",
       "      <td>0.006966</td>\n",
       "      <td>-0.075329</td>\n",
       "      <td>-0.017193</td>\n",
       "      <td>0.180243</td>\n",
       "    </tr>\n",
       "    <tr>\n",
       "      <th>7</th>\n",
       "      <td>../data/result/m9_w4_b256.csv</td>\n",
       "      <td>0.017212</td>\n",
       "      <td>-0.006380</td>\n",
       "      <td>-0.071463</td>\n",
       "      <td>-0.050463</td>\n",
       "    </tr>\n",
       "  </tbody>\n",
       "</table>\n",
       "</div>"
      ],
      "text/plain": [
       "                               key       all   last5yr   last3yr   last1yr\n",
       "0  ../data/result/m10_w13_b128.csv  0.019976 -0.019266  0.029983  0.379816\n",
       "1  ../data/result/m10_w13_b256.csv -0.007455 -0.087399 -0.124952 -0.615496\n",
       "2   ../data/result/m10_w4_b128.csv  0.049075  0.032452  0.080538  0.268310\n",
       "3   ../data/result/m10_w4_b256.csv -0.021121  0.003217  0.048322  0.170021\n",
       "4   ../data/result/m9_w13_b128.csv  0.009652 -0.017965 -0.131644  0.113642\n",
       "5   ../data/result/m9_w13_b256.csv -0.008869  0.057791 -0.098971 -0.067554\n",
       "6    ../data/result/m9_w4_b128.csv  0.006966 -0.075329 -0.017193  0.180243\n",
       "7    ../data/result/m9_w4_b256.csv  0.017212 -0.006380 -0.071463 -0.050463"
      ]
     },
     "execution_count": 13,
     "metadata": {},
     "output_type": "execute_result"
    }
   ],
   "source": [
    "calculate_correlation(data_d)"
   ]
  },
  {
   "cell_type": "markdown",
   "metadata": {},
   "source": [
    "## accuracy f1"
   ]
  },
  {
   "cell_type": "code",
   "execution_count": null,
   "metadata": {},
   "outputs": [],
   "source": [
    "def calculate_score(data_d: dict) -> dict:\n",
    "    "
   ]
  },
  {
   "cell_type": "markdown",
   "metadata": {},
   "source": [
    "## 戦略"
   ]
  },
  {
   "cell_type": "code",
   "execution_count": null,
   "metadata": {},
   "outputs": [],
   "source": [
    "def calculate_strategy_performance(data_d: dict, beta: float = 0.1) -> pd.DataFrame:\n",
    "    \"\"\"戦略のパフォーマンス計算\"\"\""
   ]
  },
  {
   "cell_type": "code",
   "execution_count": null,
   "metadata": {},
   "outputs": [],
   "source": [
    "def draw_strategy(data_d: dict, beta: float = 0.1) -> pd.DataFrame:\n",
    "    \"\"\"戦略のグラフ表示\"\"\""
   ]
  }
 ],
 "metadata": {
  "interpreter": {
   "hash": "15823f097e6a5da931501fcc7efc3355b465da66dbc7828c2a2a2865edc8254b"
  },
  "kernelspec": {
   "display_name": "Python 3.10.2 ('.venv': poetry)",
   "language": "python",
   "name": "python3"
  },
  "language_info": {
   "codemirror_mode": {
    "name": "ipython",
    "version": 3
   },
   "file_extension": ".py",
   "mimetype": "text/x-python",
   "name": "python",
   "nbconvert_exporter": "python",
   "pygments_lexer": "ipython3",
   "version": "3.10.2"
  },
  "orig_nbformat": 4
 },
 "nbformat": 4,
 "nbformat_minor": 2
}
