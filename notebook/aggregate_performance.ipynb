{
 "cells": [
  {
   "cell_type": "markdown",
   "metadata": {},
   "source": [
    "# パフォーマンスを集約"
   ]
  },
  {
   "cell_type": "code",
   "execution_count": 32,
   "metadata": {},
   "outputs": [],
   "source": [
    "import pandas as pd\n",
    "import glob\n",
    "from sklearn.metrics import accuracy_score, precision_score, recall_score, f1_score, fbeta_score\n",
    "import numpy as np"
   ]
  },
  {
   "cell_type": "code",
   "execution_count": 5,
   "metadata": {},
   "outputs": [
    {
     "data": {
      "text/plain": [
       "['../data/result/m10_w13_b128.csv',\n",
       " '../data/result/m10_w13_b256.csv',\n",
       " '../data/result/m10_w4_b128.csv',\n",
       " '../data/result/m10_w4_b256.csv',\n",
       " '../data/result/m9_w13_b128.csv',\n",
       " '../data/result/m9_w13_b256.csv',\n",
       " '../data/result/m9_w4_b128.csv',\n",
       " '../data/result/m9_w4_b256.csv']"
      ]
     },
     "execution_count": 5,
     "metadata": {},
     "output_type": "execute_result"
    }
   ],
   "source": [
    "fn_l = glob.glob(\"../data/result/*.csv\")\n",
    "fn_l.sort()\n",
    "fn_l"
   ]
  },
  {
   "cell_type": "code",
   "execution_count": 6,
   "metadata": {},
   "outputs": [],
   "source": [
    "data_d = dict()\n",
    "for fn_i in fn_l:\n",
    "    df = pd.read_csv(fn_i, parse_dates=[\"date\"])\n",
    "    data_d.update({fn_i: df.copy()})"
   ]
  },
  {
   "cell_type": "code",
   "execution_count": 7,
   "metadata": {},
   "outputs": [
    {
     "name": "stdout",
     "output_type": "stream",
     "text": [
      "../data/result/m10_w13_b128.csv\n",
      "../data/result/m10_w13_b256.csv\n",
      "../data/result/m10_w4_b128.csv\n",
      "../data/result/m10_w4_b256.csv\n",
      "../data/result/m9_w13_b128.csv\n",
      "../data/result/m9_w13_b256.csv\n",
      "../data/result/m9_w4_b128.csv\n",
      "../data/result/m9_w4_b256.csv\n"
     ]
    }
   ],
   "source": [
    "for k, v in data_d.items():\n",
    "    print(k)"
   ]
  },
  {
   "cell_type": "markdown",
   "metadata": {},
   "source": [
    "## training data"
   ]
  },
  {
   "cell_type": "code",
   "execution_count": 8,
   "metadata": {},
   "outputs": [],
   "source": [
    "def calculate_average(data_d: dict, coln: str) -> pd.DataFrame:\n",
    "    result_l = list()\n",
    "    for k, v in data_d.items():\n",
    "        # 全期間\n",
    "        all_ = v[coln].mean()\n",
    "        # last 5yr\n",
    "        last5yr = v[coln].iloc[-52*5:].mean()\n",
    "        # last 3yr\n",
    "        last3yr = v[coln].iloc[-52*3:].mean()\n",
    "        # last 1yr\n",
    "        last1yr = v[coln].iloc[-52*1:].mean()\n",
    "        result_l.append([k, all_, last5yr, last3yr, last1yr])\n",
    "\n",
    "    result_df = pd.DataFrame(result_l, columns=[\"key\", \"all\", \"last5yr\", \"last3yr\", \"last1yr\"])\n",
    "    return result_df"
   ]
  },
  {
   "cell_type": "code",
   "execution_count": 9,
   "metadata": {},
   "outputs": [
    {
     "data": {
      "text/html": [
       "<div>\n",
       "<style scoped>\n",
       "    .dataframe tbody tr th:only-of-type {\n",
       "        vertical-align: middle;\n",
       "    }\n",
       "\n",
       "    .dataframe tbody tr th {\n",
       "        vertical-align: top;\n",
       "    }\n",
       "\n",
       "    .dataframe thead th {\n",
       "        text-align: right;\n",
       "    }\n",
       "</style>\n",
       "<table border=\"1\" class=\"dataframe\">\n",
       "  <thead>\n",
       "    <tr style=\"text-align: right;\">\n",
       "      <th></th>\n",
       "      <th>key</th>\n",
       "      <th>all</th>\n",
       "      <th>last5yr</th>\n",
       "      <th>last3yr</th>\n",
       "      <th>last1yr</th>\n",
       "    </tr>\n",
       "  </thead>\n",
       "  <tbody>\n",
       "    <tr>\n",
       "      <th>0</th>\n",
       "      <td>../data/result/m10_w13_b128.csv</td>\n",
       "      <td>0.499901</td>\n",
       "      <td>0.511822</td>\n",
       "      <td>0.498888</td>\n",
       "      <td>0.330645</td>\n",
       "    </tr>\n",
       "    <tr>\n",
       "      <th>1</th>\n",
       "      <td>../data/result/m10_w13_b256.csv</td>\n",
       "      <td>0.506000</td>\n",
       "      <td>0.544579</td>\n",
       "      <td>0.521200</td>\n",
       "      <td>0.471452</td>\n",
       "    </tr>\n",
       "    <tr>\n",
       "      <th>2</th>\n",
       "      <td>../data/result/m10_w4_b128.csv</td>\n",
       "      <td>0.488623</td>\n",
       "      <td>0.473093</td>\n",
       "      <td>0.489467</td>\n",
       "      <td>0.517488</td>\n",
       "    </tr>\n",
       "    <tr>\n",
       "      <th>3</th>\n",
       "      <td>../data/result/m10_w4_b256.csv</td>\n",
       "      <td>0.500465</td>\n",
       "      <td>0.480866</td>\n",
       "      <td>0.458517</td>\n",
       "      <td>0.458958</td>\n",
       "    </tr>\n",
       "    <tr>\n",
       "      <th>4</th>\n",
       "      <td>../data/result/m9_w13_b128.csv</td>\n",
       "      <td>0.517674</td>\n",
       "      <td>0.543444</td>\n",
       "      <td>0.569586</td>\n",
       "      <td>0.699743</td>\n",
       "    </tr>\n",
       "    <tr>\n",
       "      <th>5</th>\n",
       "      <td>../data/result/m9_w13_b256.csv</td>\n",
       "      <td>0.526082</td>\n",
       "      <td>0.528321</td>\n",
       "      <td>0.547368</td>\n",
       "      <td>0.467735</td>\n",
       "    </tr>\n",
       "    <tr>\n",
       "      <th>6</th>\n",
       "      <td>../data/result/m9_w4_b128.csv</td>\n",
       "      <td>0.510577</td>\n",
       "      <td>0.506648</td>\n",
       "      <td>0.536275</td>\n",
       "      <td>0.602878</td>\n",
       "    </tr>\n",
       "    <tr>\n",
       "      <th>7</th>\n",
       "      <td>../data/result/m9_w4_b256.csv</td>\n",
       "      <td>0.497743</td>\n",
       "      <td>0.490469</td>\n",
       "      <td>0.476350</td>\n",
       "      <td>0.499778</td>\n",
       "    </tr>\n",
       "  </tbody>\n",
       "</table>\n",
       "</div>"
      ],
      "text/plain": [
       "                               key       all   last5yr   last3yr   last1yr\n",
       "0  ../data/result/m10_w13_b128.csv  0.499901  0.511822  0.498888  0.330645\n",
       "1  ../data/result/m10_w13_b256.csv  0.506000  0.544579  0.521200  0.471452\n",
       "2   ../data/result/m10_w4_b128.csv  0.488623  0.473093  0.489467  0.517488\n",
       "3   ../data/result/m10_w4_b256.csv  0.500465  0.480866  0.458517  0.458958\n",
       "4   ../data/result/m9_w13_b128.csv  0.517674  0.543444  0.569586  0.699743\n",
       "5   ../data/result/m9_w13_b256.csv  0.526082  0.528321  0.547368  0.467735\n",
       "6    ../data/result/m9_w4_b128.csv  0.510577  0.506648  0.536275  0.602878\n",
       "7    ../data/result/m9_w4_b256.csv  0.497743  0.490469  0.476350  0.499778"
      ]
     },
     "execution_count": 9,
     "metadata": {},
     "output_type": "execute_result"
    }
   ],
   "source": [
    "calculate_average(data_d, \"training_loss\")"
   ]
  },
  {
   "cell_type": "markdown",
   "metadata": {},
   "source": [
    "## correlation"
   ]
  },
  {
   "cell_type": "code",
   "execution_count": 10,
   "metadata": {},
   "outputs": [],
   "source": [
    "def calculate_correlation(data_d: dict) -> pd.DataFrame:\n",
    "    \"\"\" drtnfとprobの送還を計算 \"\"\"\n",
    "    result_l = list()\n",
    "    for k, v in data_d.items():\n",
    "        # 全期間\n",
    "        all_ = v[[\"prob\", \"drtnf\"]].corr().iloc[0, 1]\n",
    "        # last 5yr\n",
    "        last5yr = v[[\"prob\", \"drtnf\"]].iloc[-52*5:].corr().iloc[0, 1]\n",
    "        # last 3yr\n",
    "        last3yr = v[[\"prob\", \"drtnf\"]].iloc[-52*3:].corr().iloc[0, 1]\n",
    "        # last 1yr\n",
    "        last1yr = v[[\"prob\", \"drtnf\"]].iloc[-52*1:].corr().iloc[0, 1]\n",
    "        result_l.append([k, all_, last5yr, last3yr, last1yr])\n",
    "\n",
    "    result_df = pd.DataFrame(result_l, columns=[\"key\", \"all\", \"last5yr\", \"last3yr\", \"last1yr\"])\n",
    "    return result_df"
   ]
  },
  {
   "cell_type": "code",
   "execution_count": 11,
   "metadata": {},
   "outputs": [
    {
     "data": {
      "text/html": [
       "<div>\n",
       "<style scoped>\n",
       "    .dataframe tbody tr th:only-of-type {\n",
       "        vertical-align: middle;\n",
       "    }\n",
       "\n",
       "    .dataframe tbody tr th {\n",
       "        vertical-align: top;\n",
       "    }\n",
       "\n",
       "    .dataframe thead th {\n",
       "        text-align: right;\n",
       "    }\n",
       "</style>\n",
       "<table border=\"1\" class=\"dataframe\">\n",
       "  <thead>\n",
       "    <tr style=\"text-align: right;\">\n",
       "      <th></th>\n",
       "      <th>key</th>\n",
       "      <th>all</th>\n",
       "      <th>last5yr</th>\n",
       "      <th>last3yr</th>\n",
       "      <th>last1yr</th>\n",
       "    </tr>\n",
       "  </thead>\n",
       "  <tbody>\n",
       "    <tr>\n",
       "      <th>0</th>\n",
       "      <td>../data/result/m10_w13_b128.csv</td>\n",
       "      <td>0.019976</td>\n",
       "      <td>-0.019266</td>\n",
       "      <td>0.029983</td>\n",
       "      <td>0.379816</td>\n",
       "    </tr>\n",
       "    <tr>\n",
       "      <th>1</th>\n",
       "      <td>../data/result/m10_w13_b256.csv</td>\n",
       "      <td>-0.007455</td>\n",
       "      <td>-0.087399</td>\n",
       "      <td>-0.124952</td>\n",
       "      <td>-0.615496</td>\n",
       "    </tr>\n",
       "    <tr>\n",
       "      <th>2</th>\n",
       "      <td>../data/result/m10_w4_b128.csv</td>\n",
       "      <td>0.049075</td>\n",
       "      <td>0.032452</td>\n",
       "      <td>0.080538</td>\n",
       "      <td>0.268310</td>\n",
       "    </tr>\n",
       "    <tr>\n",
       "      <th>3</th>\n",
       "      <td>../data/result/m10_w4_b256.csv</td>\n",
       "      <td>-0.021121</td>\n",
       "      <td>0.003217</td>\n",
       "      <td>0.048322</td>\n",
       "      <td>0.170021</td>\n",
       "    </tr>\n",
       "    <tr>\n",
       "      <th>4</th>\n",
       "      <td>../data/result/m9_w13_b128.csv</td>\n",
       "      <td>0.009652</td>\n",
       "      <td>-0.017965</td>\n",
       "      <td>-0.131644</td>\n",
       "      <td>0.113642</td>\n",
       "    </tr>\n",
       "    <tr>\n",
       "      <th>5</th>\n",
       "      <td>../data/result/m9_w13_b256.csv</td>\n",
       "      <td>-0.008869</td>\n",
       "      <td>0.057791</td>\n",
       "      <td>-0.098971</td>\n",
       "      <td>-0.067554</td>\n",
       "    </tr>\n",
       "    <tr>\n",
       "      <th>6</th>\n",
       "      <td>../data/result/m9_w4_b128.csv</td>\n",
       "      <td>0.006966</td>\n",
       "      <td>-0.075329</td>\n",
       "      <td>-0.017193</td>\n",
       "      <td>0.180243</td>\n",
       "    </tr>\n",
       "    <tr>\n",
       "      <th>7</th>\n",
       "      <td>../data/result/m9_w4_b256.csv</td>\n",
       "      <td>0.017212</td>\n",
       "      <td>-0.006380</td>\n",
       "      <td>-0.071463</td>\n",
       "      <td>-0.050463</td>\n",
       "    </tr>\n",
       "  </tbody>\n",
       "</table>\n",
       "</div>"
      ],
      "text/plain": [
       "                               key       all   last5yr   last3yr   last1yr\n",
       "0  ../data/result/m10_w13_b128.csv  0.019976 -0.019266  0.029983  0.379816\n",
       "1  ../data/result/m10_w13_b256.csv -0.007455 -0.087399 -0.124952 -0.615496\n",
       "2   ../data/result/m10_w4_b128.csv  0.049075  0.032452  0.080538  0.268310\n",
       "3   ../data/result/m10_w4_b256.csv -0.021121  0.003217  0.048322  0.170021\n",
       "4   ../data/result/m9_w13_b128.csv  0.009652 -0.017965 -0.131644  0.113642\n",
       "5   ../data/result/m9_w13_b256.csv -0.008869  0.057791 -0.098971 -0.067554\n",
       "6    ../data/result/m9_w4_b128.csv  0.006966 -0.075329 -0.017193  0.180243\n",
       "7    ../data/result/m9_w4_b256.csv  0.017212 -0.006380 -0.071463 -0.050463"
      ]
     },
     "execution_count": 11,
     "metadata": {},
     "output_type": "execute_result"
    }
   ],
   "source": [
    "calculate_correlation(data_d)"
   ]
  },
  {
   "cell_type": "markdown",
   "metadata": {},
   "source": [
    "## accuracy f1"
   ]
  },
  {
   "cell_type": "code",
   "execution_count": 24,
   "metadata": {},
   "outputs": [],
   "source": [
    "def calculate_score(data_d: dict) -> dict:\n",
    "    result_l = list()\n",
    "    for k, v in data_d.items():\n",
    "        true_l = [1 if x >= 0 else 0 for x in v[\"drtnf\"]]\n",
    "        pred_l = [1 if x >= 0.5 else 0 for x in v[\"prob\"]]\n",
    "\n",
    "        accuracy_score_ = accuracy_score(true_l, pred_l)\n",
    "        precision_score_ = precision_score(true_l, pred_l)\n",
    "        recall_score_ = recall_score(true_l, pred_l)\n",
    "        f1_score_ = f1_score(true_l, pred_l)\n",
    "        #fbeta_score_ = fbeta_score(true_l, pred_l)\n",
    "\n",
    "        #result_l.append([k, accuracy_score_, precision_score_, recall_score_, f1_score_, fbeta_score_])\n",
    "        result_l.append([k, accuracy_score_, precision_score_, recall_score_, f1_score_])\n",
    "\n",
    "    #df = pd.DataFrame(result_l, columns=[\"key\", \"accuracy\", \"precision\", \"recall\", \"f1\", \"fbeta\"])\n",
    "    df = pd.DataFrame(result_l, columns=[\"key\", \"accuracy\", \"precision\", \"recall\", \"f1\"])\n",
    "    return df"
   ]
  },
  {
   "cell_type": "code",
   "execution_count": 25,
   "metadata": {},
   "outputs": [
    {
     "data": {
      "text/html": [
       "<div>\n",
       "<style scoped>\n",
       "    .dataframe tbody tr th:only-of-type {\n",
       "        vertical-align: middle;\n",
       "    }\n",
       "\n",
       "    .dataframe tbody tr th {\n",
       "        vertical-align: top;\n",
       "    }\n",
       "\n",
       "    .dataframe thead th {\n",
       "        text-align: right;\n",
       "    }\n",
       "</style>\n",
       "<table border=\"1\" class=\"dataframe\">\n",
       "  <thead>\n",
       "    <tr style=\"text-align: right;\">\n",
       "      <th></th>\n",
       "      <th>key</th>\n",
       "      <th>accuracy</th>\n",
       "      <th>precision</th>\n",
       "      <th>recall</th>\n",
       "      <th>f1</th>\n",
       "    </tr>\n",
       "  </thead>\n",
       "  <tbody>\n",
       "    <tr>\n",
       "      <th>0</th>\n",
       "      <td>../data/result/m10_w13_b128.csv</td>\n",
       "      <td>0.489547</td>\n",
       "      <td>0.555184</td>\n",
       "      <td>0.182018</td>\n",
       "      <td>0.274154</td>\n",
       "    </tr>\n",
       "    <tr>\n",
       "      <th>1</th>\n",
       "      <td>../data/result/m10_w13_b256.csv</td>\n",
       "      <td>0.487224</td>\n",
       "      <td>0.551237</td>\n",
       "      <td>0.171053</td>\n",
       "      <td>0.261088</td>\n",
       "    </tr>\n",
       "    <tr>\n",
       "      <th>2</th>\n",
       "      <td>../data/result/m10_w4_b128.csv</td>\n",
       "      <td>0.487805</td>\n",
       "      <td>0.552083</td>\n",
       "      <td>0.174342</td>\n",
       "      <td>0.265000</td>\n",
       "    </tr>\n",
       "    <tr>\n",
       "      <th>3</th>\n",
       "      <td>../data/result/m10_w4_b256.csv</td>\n",
       "      <td>0.479094</td>\n",
       "      <td>0.527881</td>\n",
       "      <td>0.155702</td>\n",
       "      <td>0.240474</td>\n",
       "    </tr>\n",
       "    <tr>\n",
       "      <th>4</th>\n",
       "      <td>../data/result/m9_w13_b128.csv</td>\n",
       "      <td>0.481417</td>\n",
       "      <td>0.533569</td>\n",
       "      <td>0.165570</td>\n",
       "      <td>0.252720</td>\n",
       "    </tr>\n",
       "    <tr>\n",
       "      <th>5</th>\n",
       "      <td>../data/result/m9_w13_b256.csv</td>\n",
       "      <td>0.477352</td>\n",
       "      <td>0.522059</td>\n",
       "      <td>0.155702</td>\n",
       "      <td>0.239865</td>\n",
       "    </tr>\n",
       "    <tr>\n",
       "      <th>6</th>\n",
       "      <td>../data/result/m9_w4_b128.csv</td>\n",
       "      <td>0.488386</td>\n",
       "      <td>0.549521</td>\n",
       "      <td>0.188596</td>\n",
       "      <td>0.280816</td>\n",
       "    </tr>\n",
       "    <tr>\n",
       "      <th>7</th>\n",
       "      <td>../data/result/m9_w4_b256.csv</td>\n",
       "      <td>0.478513</td>\n",
       "      <td>0.523649</td>\n",
       "      <td>0.169956</td>\n",
       "      <td>0.256623</td>\n",
       "    </tr>\n",
       "  </tbody>\n",
       "</table>\n",
       "</div>"
      ],
      "text/plain": [
       "                               key  accuracy  precision    recall        f1\n",
       "0  ../data/result/m10_w13_b128.csv  0.489547   0.555184  0.182018  0.274154\n",
       "1  ../data/result/m10_w13_b256.csv  0.487224   0.551237  0.171053  0.261088\n",
       "2   ../data/result/m10_w4_b128.csv  0.487805   0.552083  0.174342  0.265000\n",
       "3   ../data/result/m10_w4_b256.csv  0.479094   0.527881  0.155702  0.240474\n",
       "4   ../data/result/m9_w13_b128.csv  0.481417   0.533569  0.165570  0.252720\n",
       "5   ../data/result/m9_w13_b256.csv  0.477352   0.522059  0.155702  0.239865\n",
       "6    ../data/result/m9_w4_b128.csv  0.488386   0.549521  0.188596  0.280816\n",
       "7    ../data/result/m9_w4_b256.csv  0.478513   0.523649  0.169956  0.256623"
      ]
     },
     "execution_count": 25,
     "metadata": {},
     "output_type": "execute_result"
    }
   ],
   "source": [
    "calculate_score(data_d)"
   ]
  },
  {
   "cell_type": "markdown",
   "metadata": {},
   "source": [
    "## 戦略"
   ]
  },
  {
   "cell_type": "code",
   "execution_count": 30,
   "metadata": {},
   "outputs": [],
   "source": [
    "def calculate_strategy_performance(data_d: dict, beta: float = 0.1) -> pd.DataFrame:\n",
    "    \"\"\"戦略のパフォーマンス計算\"\"\"\n",
    "    result_l = list()\n",
    "    for k, v in data_d.items():\n",
    "        rtn_s = v[\"drtnf\"].copy()\n",
    "        mask = v[\"prob\"] >= 0.5\n",
    "        rtn_s[~mask] = 0\n",
    "        rtn_s[mask] = rtn_s[mask] * beta\n",
    "\n",
    "        alpha_ = rtn_s.mean() * 52\n",
    "        te_ = rtn_s.std() * np.sqrt(52)\n",
    "        ir_ = alpha_ / te_\n",
    "\n",
    "        result_l.append([k, alpha_, te_, ir_])\n",
    "\n",
    "    df = pd.DataFrame(result_l, columns=[\"key\", \"alpha\", \"te_\", \"ir_\"])\n",
    "    return df"
   ]
  },
  {
   "cell_type": "code",
   "execution_count": 33,
   "metadata": {},
   "outputs": [
    {
     "data": {
      "text/html": [
       "<div>\n",
       "<style scoped>\n",
       "    .dataframe tbody tr th:only-of-type {\n",
       "        vertical-align: middle;\n",
       "    }\n",
       "\n",
       "    .dataframe tbody tr th {\n",
       "        vertical-align: top;\n",
       "    }\n",
       "\n",
       "    .dataframe thead th {\n",
       "        text-align: right;\n",
       "    }\n",
       "</style>\n",
       "<table border=\"1\" class=\"dataframe\">\n",
       "  <thead>\n",
       "    <tr style=\"text-align: right;\">\n",
       "      <th></th>\n",
       "      <th>key</th>\n",
       "      <th>alpha</th>\n",
       "      <th>te_</th>\n",
       "      <th>ir_</th>\n",
       "    </tr>\n",
       "  </thead>\n",
       "  <tbody>\n",
       "    <tr>\n",
       "      <th>0</th>\n",
       "      <td>../data/result/m10_w13_b128.csv</td>\n",
       "      <td>0.002870</td>\n",
       "      <td>0.008812</td>\n",
       "      <td>0.325699</td>\n",
       "    </tr>\n",
       "    <tr>\n",
       "      <th>1</th>\n",
       "      <td>../data/result/m10_w13_b256.csv</td>\n",
       "      <td>0.001882</td>\n",
       "      <td>0.008229</td>\n",
       "      <td>0.228693</td>\n",
       "    </tr>\n",
       "    <tr>\n",
       "      <th>2</th>\n",
       "      <td>../data/result/m10_w4_b128.csv</td>\n",
       "      <td>0.002792</td>\n",
       "      <td>0.008650</td>\n",
       "      <td>0.322712</td>\n",
       "    </tr>\n",
       "    <tr>\n",
       "      <th>3</th>\n",
       "      <td>../data/result/m10_w4_b256.csv</td>\n",
       "      <td>0.001147</td>\n",
       "      <td>0.008308</td>\n",
       "      <td>0.138087</td>\n",
       "    </tr>\n",
       "    <tr>\n",
       "      <th>4</th>\n",
       "      <td>../data/result/m9_w13_b128.csv</td>\n",
       "      <td>0.001566</td>\n",
       "      <td>0.008411</td>\n",
       "      <td>0.186222</td>\n",
       "    </tr>\n",
       "    <tr>\n",
       "      <th>5</th>\n",
       "      <td>../data/result/m9_w13_b256.csv</td>\n",
       "      <td>0.000551</td>\n",
       "      <td>0.008138</td>\n",
       "      <td>0.067652</td>\n",
       "    </tr>\n",
       "    <tr>\n",
       "      <th>6</th>\n",
       "      <td>../data/result/m9_w4_b128.csv</td>\n",
       "      <td>0.001588</td>\n",
       "      <td>0.008740</td>\n",
       "      <td>0.181746</td>\n",
       "    </tr>\n",
       "    <tr>\n",
       "      <th>7</th>\n",
       "      <td>../data/result/m9_w4_b256.csv</td>\n",
       "      <td>0.002738</td>\n",
       "      <td>0.008750</td>\n",
       "      <td>0.312877</td>\n",
       "    </tr>\n",
       "  </tbody>\n",
       "</table>\n",
       "</div>"
      ],
      "text/plain": [
       "                               key     alpha       te_       ir_\n",
       "0  ../data/result/m10_w13_b128.csv  0.002870  0.008812  0.325699\n",
       "1  ../data/result/m10_w13_b256.csv  0.001882  0.008229  0.228693\n",
       "2   ../data/result/m10_w4_b128.csv  0.002792  0.008650  0.322712\n",
       "3   ../data/result/m10_w4_b256.csv  0.001147  0.008308  0.138087\n",
       "4   ../data/result/m9_w13_b128.csv  0.001566  0.008411  0.186222\n",
       "5   ../data/result/m9_w13_b256.csv  0.000551  0.008138  0.067652\n",
       "6    ../data/result/m9_w4_b128.csv  0.001588  0.008740  0.181746\n",
       "7    ../data/result/m9_w4_b256.csv  0.002738  0.008750  0.312877"
      ]
     },
     "execution_count": 33,
     "metadata": {},
     "output_type": "execute_result"
    }
   ],
   "source": [
    "calculate_strategy_performance(data_d)"
   ]
  },
  {
   "cell_type": "code",
   "execution_count": 70,
   "metadata": {},
   "outputs": [],
   "source": [
    "def draw_strategy(data_d: dict, beta: float = 0.1) -> pd.DataFrame:\n",
    "    \"\"\"戦略のグラフ表示\"\"\"\n",
    "    result_l = list()\n",
    "    for k, v in data_d.items():\n",
    "        rtn_df = v.set_index(\"date\")[[\"drtnf\", \"prob\"]].copy()\n",
    "        rtn_df.dropna(how=\"any\", axis=\"index\", inplace=True)\n",
    "\n",
    "        mask = rtn_df[\"prob\"] >= 0.5\n",
    "        rtn_df.loc[~mask, \"drtnf\"] = 0\n",
    "        rtn_df.loc[mask, \"drtnf\"] = rtn_df[mask][\"drtnf\"].mul(beta)\n",
    "\n",
    "        rtn_s = rtn_df[\"drtnf\"]\n",
    "        rtn_s.name = k\n",
    "\n",
    "        result_l.append(rtn_s)\n",
    "\n",
    "    df = pd.concat(result_l, axis=\"columns\")\n",
    "    return df"
   ]
  },
  {
   "cell_type": "code",
   "execution_count": 71,
   "metadata": {},
   "outputs": [],
   "source": [
    "df = draw_strategy(data_d)"
   ]
  },
  {
   "cell_type": "code",
   "execution_count": 72,
   "metadata": {},
   "outputs": [
    {
     "data": {
      "text/plain": [
       "<AxesSubplot:xlabel='date'>"
      ]
     },
     "execution_count": 72,
     "metadata": {},
     "output_type": "execute_result"
    },
    {
     "data": {
      "image/png": "[encoded data removed]",
      "text/plain": [
       "<Figure size 432x288 with 1 Axes>"
      ]
     },
     "metadata": {
      "needs_background": "light"
     },
     "output_type": "display_data"
    }
   ],
   "source": [
    "df.add(1).cumprod(axis=\"index\").sub(1).plot()"
   ]
  },
  {
   "cell_type": "code",
   "execution_count": null,
   "metadata": {},
   "outputs": [],
   "source": []
  }
 ],
 "metadata": {
  "interpreter": {
   "hash": "15823f097e6a5da931501fcc7efc3355b465da66dbc7828c2a2a2865edc8254b"
  },
  "kernelspec": {
   "display_name": "Python 3.10.2 ('.venv': poetry)",
   "language": "python",
   "name": "python3"
  },
  "language_info": {
   "codemirror_mode": {
    "name": "ipython",
    "version": 3
   },
   "file_extension": ".py",
   "mimetype": "text/x-python",
   "name": "python",
   "nbconvert_exporter": "python",
   "pygments_lexer": "ipython3",
   "version": "3.10.2"
  },
  "orig_nbformat": 4
 },
 "nbformat": 4,
 "nbformat_minor": 2
}
